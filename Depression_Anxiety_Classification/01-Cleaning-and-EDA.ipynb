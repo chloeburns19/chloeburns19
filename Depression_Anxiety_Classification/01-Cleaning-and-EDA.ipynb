{
 "cells": [
  {
   "cell_type": "code",
   "execution_count": 1,
   "id": "8b41bbc9",
   "metadata": {},
   "outputs": [],
   "source": [
    "# imports\n",
    "import pandas as pd\n",
    "import seaborn as sns\n",
    "import matplotlib.pyplot as plt\n",
    "import numpy as np\n",
    "from sklearn.impute import KNNImputer\n",
    "\n",
    "%matplotlib inline"
   ]
  },
  {
   "cell_type": "code",
   "execution_count": 2,
   "id": "9207f9d2",
   "metadata": {},
   "outputs": [],
   "source": [
    "# read in data and segment to teens\n",
    "data = pd.read_csv('Data/NSCH_2019.csv')\n",
    "adol = data[data['sc_age_years'] >= 13].drop(columns = 'Unnamed: 0')\n",
    "\n",
    "# rename columns to upper case\n",
    "adol.rename(str.upper, axis='columns', inplace = True)"
   ]
  },
  {
   "cell_type": "markdown",
   "id": "7cdbebb4",
   "metadata": {},
   "source": [
    "Isolate columns to drop and target variable columns. The following columns were not relevant to the goal of hte project, for example seeing a Dentist is probably not related to Depression."
   ]
  },
  {
   "cell_type": "code",
   "execution_count": 1,
   "id": "60691645",
   "metadata": {},
   "outputs": [
    {
     "ename": "NameError",
     "evalue": "name 'adol' is not defined",
     "output_type": "error",
     "traceback": [
      "\u001b[0;31m---------------------------------------------------------------------------\u001b[0m",
      "\u001b[0;31mNameError\u001b[0m                                 Traceback (most recent call last)",
      "\u001b[0;32m<ipython-input-1-6be4644ca8d2>\u001b[0m in \u001b[0;36m<module>\u001b[0;34m\u001b[0m\n\u001b[1;32m    171\u001b[0m ]\n\u001b[1;32m    172\u001b[0m \u001b[0;34m\u001b[0m\u001b[0m\n\u001b[0;32m--> 173\u001b[0;31m \u001b[0madol\u001b[0m \u001b[0;34m=\u001b[0m \u001b[0madol\u001b[0m\u001b[0;34m.\u001b[0m\u001b[0mdrop\u001b[0m\u001b[0;34m(\u001b[0m\u001b[0mcolumns\u001b[0m \u001b[0;34m=\u001b[0m \u001b[0mdrop_cols\u001b[0m\u001b[0;34m)\u001b[0m\u001b[0;34m\u001b[0m\u001b[0;34m\u001b[0m\u001b[0m\n\u001b[0m",
      "\u001b[0;31mNameError\u001b[0m: name 'adol' is not defined"
     ]
    }
   ],
   "source": [
    "\n",
    "drop_cols = [\n",
    "    'A1_GRADE_IF',\n",
    "    'A1_LIVEUSA' ,\n",
    "    'A1_RELATION',\n",
    "    'A1_SEX',\n",
    "    'A1_GRADE',\n",
    "    'A2_LIVEUSA',\n",
    "    'A2_SEX',\n",
    "    'A2_GRADE',\n",
    "    'ARTHRITIS_DESC',\n",
    "    'APPOINTMENT',\n",
    "    'AVAILABLE',\n",
    "    'BIRTH_MO',\n",
    "    'BIRTH_YR',\n",
    "    'BIRTH_YR_F',\n",
    "    'BIRTHWT', \n",
    "    'BIRTHWT_L',\n",
    "    'BIRTHWT_VL',\n",
    "    'BLOOD_SCREEN',\n",
    "    'CBSAFP_YN',\n",
    "    'CERPALS_DESC',\n",
    "    'CURRINS',\n",
    "    'DECISIONS',\n",
    "    'DENTALSERV1',\n",
    "    'DENTALSERV2',    \n",
    "    'DENTALSERV3',\n",
    "    'DENTALSERV4',    \n",
    "    'DENTALSERV5',\n",
    "    'DENTALSERV6',\n",
    "    'DENTALSERV7',\n",
    "    'DENTISTVISIT',\n",
    "    'DISCUSSOPT',\n",
    "    'DOCPRIVATE',\n",
    "    'DOCROOM',\n",
    "    'DOWNSYN_DESC',\n",
    "    'FIPSST',\n",
    "    'FORMTYPE',\n",
    "    'FPL_IF',\n",
    "    'FWC',\n",
    "    'GENETIC_SCREEN',\n",
    "    'HCCOVOTH',\n",
    "    'HEADACHE_DESC',\n",
    "    'HEALTHKNOW',\n",
    "    'HEART_DESC',\n",
    "    'HHCOUNT_IF',\n",
    "    'HHID',\n",
    "    'HIGRADE',\n",
    "    'INSGAP',\n",
    "    'INSTYPE',\n",
    "    'ISSUECOST',\n",
    "    'K11Q03R',\n",
    "    'K12Q01_A',\n",
    "    'K12Q01_B',\n",
    "    'K12Q01_C',\n",
    "    'K12Q01_D',\n",
    "    'K12Q01_E',\n",
    "    'K12Q01_F',\n",
    "    'K12Q01_G',\n",
    "    'K12Q03',\n",
    "    'K12Q04',\n",
    "    'K12Q12',\n",
    "    'K2Q30C',\n",
    "    'K2Q31C',\n",
    "    'K2Q34C',\n",
    "    'K2Q35A_1_YEARS',\n",
    "    'K2Q35B',\n",
    "    'K2Q35D',\n",
    "    'K2Q36C',\n",
    "    'K2Q37C',\n",
    "    'K2Q38C',\n",
    "    'K2Q40C',\n",
    "    'K2Q41C',\n",
    "    'K2Q42C',\n",
    "    'K2Q46A',\n",
    "    'K2Q46C',\n",
    "    'K2Q60B',\n",
    "    'K2Q60C',\n",
    "    'K2Q61B',\n",
    "    'K3Q04_R',\n",
    "    'K3Q20',\n",
    "    'K3Q21B',\n",
    "    'K3Q22',\n",
    "    'K4Q02_R',\n",
    "    'K4Q26',\n",
    "    'K4Q28X_EAR',\n",
    "    'K4Q28X01',\n",
    "    'K4Q28X02',\n",
    "    'K4Q28X03',\n",
    "    'K4Q28X04',\n",
    "    'K4Q28X05',\n",
    "    'K4Q32X01',\n",
    "    'K4Q32X02',\n",
    "    'K4Q32X03',\n",
    "    'K4Q32X04',\n",
    "    'K4Q32X05',\n",
    "    'K4Q37',   \n",
    "    'K5Q10',\n",
    "    'K5Q11',\n",
    "    'K5Q20_R',\n",
    "    'K5Q21',\n",
    "    'K5Q22',\n",
    "    'K5Q30',\n",
    "    'K5Q40',\n",
    "    'K5Q41',\n",
    "    'K5Q42',\n",
    "    'K5Q43',\n",
    "    'K5Q44',\n",
    "    'K5Q31_R',\n",
    "    'K5Q32',\n",
    "    'LIVEUSA_MO',\n",
    "    'MEDHISTORY',\n",
    "    'METRO_YN',\n",
    "    'MPC_YN',\n",
    "    'NOTELIG',\n",
    "    'NOTOPEN',\n",
    "    'PLANNEEDS_R',\n",
    "    'RAISECONC',\n",
    "    'RECEIVECOPY',\n",
    "    'SC_AGE_LT10',\n",
    "    'SC_AGE_LT4',\n",
    "    'SC_AGE_LT6',\n",
    "    'SC_AGE_LT9',\n",
    "    'SC_CSHCN',\n",
    "    'SC_HISPANIC_R_IF',\n",
    "    'SC_K2Q11',\n",
    "    'SC_K2Q12',\n",
    "    'SC_K2Q14',\n",
    "    'SC_K2Q15',\n",
    "    'SC_K2Q17',\n",
    "    'SC_K2Q18',\n",
    "    'SC_K2Q20',\n",
    "    'SC_K2Q21',\n",
    "    'SC_K2Q23',\n",
    "    'SC_RACE_R_IF',\n",
    "    'SC_RACEAIAN',\n",
    "    'SC_RACEASIA',\n",
    "    'SC_RACER',\n",
    "    'SC_SEX_IF',\n",
    "    'SESPLANMO',\n",
    "    'SESPLANYR',\n",
    "    'SPCSERVMO',\n",
    "    'STRATUM',\n",
    "    'SUBABUSE_DESC',\n",
    "    'TENURE',\n",
    "    'TENURE_IF',\n",
    "    'TOTAGE_0_5',\n",
    "    'TOTAGE_12_17',\n",
    "    'TOTAGE_6_11',\n",
    "    'TOTCSHCN',\n",
    "    'TOTFEMALE',\n",
    "    'TOTMALE',\n",
    "    'TOTNONSHCN',\n",
    "    'TRANSPORTCC',\n",
    "    'TREATADULT',\n",
    "    'TREATCHILD',\n",
    "    'TREATNEED',\n",
    "    'TRICARE',\n",
    "    'USUALSICK',\n",
    "    'WRITEPLAN',\n",
    "    'YEAR',\n",
    "    'WGTCONC'\n",
    "]\n",
    "\n",
    "target_cols = [\n",
    "    'K2Q32A',\n",
    "    'K2Q32B',\n",
    "    'K2Q32C',\n",
    "    'K2Q33A',\n",
    "    'K2Q33B',\n",
    "    'K2Q33C', \n",
    "]\n",
    "\n",
    "adol = adol.drop(columns = drop_cols)"
   ]
  },
  {
   "cell_type": "code",
   "execution_count": 5,
   "id": "8de69ce2",
   "metadata": {
    "scrolled": true
   },
   "outputs": [],
   "source": [
    "# drop columns and filter out subjects with disorders that can affect brain development\n",
    "\n",
    "adol = adol.loc[\n",
    "    (adol['K2Q35A'] == 2) &\n",
    "    (adol['DOWNSYN'] == 2) &\n",
    "    (adol['CYSTFIB'] == 2) &         \n",
    "    (adol['K2Q36A'] == 2) &         \n",
    "    (adol['K2Q43B'] == 2) &        \n",
    "    (adol['K2Q46B'] != 1)  &       \n",
    "    (adol['K2Q60A'] != 1)  &      \n",
    "    (adol['BLINDNESS'] != 1) &\n",
    "    (adol['K2Q38B'] != 1) &\n",
    "    (adol['K2Q61A'] != 1)\n",
    "               ]\n",
    "\n",
    "adol = adol.loc[adol['K2Q32A'].notnull()]\n",
    "adol = adol.loc[adol['K2Q33A'].notnull()]\n",
    "\n",
    "# get list of columns where all responses are identical (including nan) and drop them from dataset\n",
    "same_response_cols = [col for col in adol.columns if adol[col].unique().shape == (1,)]\n",
    "adol = adol.drop(columns = same_response_cols)\n",
    "\n",
    "# average FPL (family poverty level) implicates\n",
    "adol['FPL'] = adol[['FPL_I1', 'FPL_I2', 'FPL_I3', 'FPL_I4', 'FPL_I5', 'FPL_I6']].mean(axis=1)\n",
    "adol = adol.drop(columns = ['FPL_I1', 'FPL_I2', 'FPL_I3', 'FPL_I4', 'FPL_I5', 'FPL_I6'])\n",
    "\n",
    "# reset index\n",
    "adol.reset_index(drop = True, inplace = True)\n",
    "\n",
    "# create column to indicate history of anxiety OR depression\n",
    "adol['dep_anx_hist'] = [1 if ((adol['K2Q33A'][i] == 1) or (adol['K2Q32A'][i] == 1)) else 2 for i in range(adol.shape[0])]"
   ]
  },
  {
   "cell_type": "markdown",
   "id": "776bd1a4",
   "metadata": {},
   "source": [
    "# Distribution of Variables\n",
    "----\n",
    "Here I conducted some preliminary EDA to examine demographic distributions."
   ]
  },
  {
   "cell_type": "code",
   "execution_count": 9,
   "id": "89dc1a92",
   "metadata": {
    "scrolled": true
   },
   "outputs": [
    {
     "data": {
      "image/png": "[encoded data removed]",
      "text/plain": [
       "<Figure size 432x288 with 1 Axes>"
      ]
     },
     "metadata": {
      "needs_background": "light"
     },
     "output_type": "display_data"
    }
   ],
   "source": [
    "# basic EDA on demographics of sample\n",
    "sns.barplot(data = adol, x = [13, 14, 15, 16, 17], y = adol['SC_AGE_YEARS'].value_counts(normalize=True))\n",
    "plt.xlabel('Age')\n",
    "plt.ylabel('Count')\n",
    "plt.title('Distribution of Ages in Sample');"
   ]
  },
  {
   "cell_type": "markdown",
   "id": "8f161a02",
   "metadata": {},
   "source": [
    "Age is pretty evenly distributed\n",
    "\n",
    "----"
   ]
  },
  {
   "cell_type": "code",
   "execution_count": 10,
   "id": "ae4d1aea",
   "metadata": {
    "scrolled": true
   },
   "outputs": [
    {
     "data": {
      "image/png": "[encoded data removed]",
      "text/plain": [
       "<Figure size 432x288 with 1 Axes>"
      ]
     },
     "metadata": {
      "needs_background": "light"
     },
     "output_type": "display_data"
    }
   ],
   "source": [
    "sns.barplot(data = adol, x = [1, 2], y = adol['SC_SEX'].value_counts(normalize = True))\n",
    "plt.xticks([0, 1], ['Male', 'Female'])\n",
    "plt.xlabel('Sex')\n",
    "plt.ylabel('Count')\n",
    "plt.title('Distribution of Sex in Sample');\n",
    "plt.text(x = 0, y = .25, s = round(adol['SC_SEX'].value_counts(normalize = True)[1],3), color='white', ha=\"center\", fontsize = 16)\n",
    "plt.text(x = 1, y = .25, s = round(adol['SC_SEX'].value_counts(normalize = True)[2],3), color='black', ha=\"center\", fontsize = 16);"
   ]
  },
  {
   "cell_type": "markdown",
   "id": "93871c58",
   "metadata": {},
   "source": [
    "Sex is also evenly distributed. <br>\n",
    "<br>\n",
    "**Important note**: Child's gender was not asked on this survey. This project does not condone the assumption of a gender binary. "
   ]
  },
  {
   "cell_type": "code",
   "execution_count": 11,
   "id": "0c5fea61",
   "metadata": {
    "scrolled": false
   },
   "outputs": [
    {
     "data": {
      "image/png": "[encoded data removed]",
      "text/plain": [
       "<Figure size 432x288 with 1 Axes>"
      ]
     },
     "metadata": {
      "needs_background": "light"
     },
     "output_type": "display_data"
    }
   ],
   "source": [
    "sns.barplot(data = adol, x = [1, 2, 3], y = adol['HHLANGUAGE'].value_counts(normalize = True), )\n",
    "plt.xticks([0, 1, 2], ['English', 'Spanish', 'Other'])\n",
    "plt.xlabel('Primary Household Language')\n",
    "plt.ylabel('Count')\n",
    "plt.title('Distribution of Primary Household Language in Sample')\n",
    "plt.text(x = 0, y = .8, s = round(adol['HHLANGUAGE'].value_counts(normalize = True)[1],3), color='white', ha=\"center\", fontsize = 12)\n",
    "plt.text(x = 1, y = .1, s = round(adol['HHLANGUAGE'].value_counts(normalize = True)[2],3), color='black', ha=\"center\", fontsize = 12);\n",
    "plt.text(x = 2, y = .1, s = round(adol['HHLANGUAGE'].value_counts(normalize = True)[3],3), color='black', ha=\"center\", fontsize = 12);"
   ]
  },
  {
   "cell_type": "markdown",
   "id": "848e0bcb",
   "metadata": {},
   "source": [
    "Considering how overwhelming the sample skews towards English as the primary household language, this variable might not be a great feature to use in our model. Only 5.5% of our sample does not speak English as the primary language. This totals to about 504 observations. "
   ]
  },
  {
   "cell_type": "code",
   "execution_count": 12,
   "id": "3108f94d",
   "metadata": {},
   "outputs": [
    {
     "data": {
      "image/png": "[encoded data removed]",
      "text/plain": [
       "<Figure size 432x288 with 1 Axes>"
      ]
     },
     "metadata": {
      "needs_background": "light"
     },
     "output_type": "display_data"
    }
   ],
   "source": [
    "sns.histplot(adol['FPL'], color='red', stat = 'probability')\n",
    "plt.title('Family Poverty Ratio Distribution');"
   ]
  },
  {
   "cell_type": "markdown",
   "id": "035e8273",
   "metadata": {},
   "source": [
    "It is important to note that FPL = 50 means 50 or below. Similarly, FPL = 400 means 400 or above. Over 40% of our population has an FPL of 400 or above, so more wealthy families are represented in our sample. This is consistent with the US population, of which 41.5% are at an FPL of 400 or above. <br>\n",
    "[Source](https://www.kff.org/other/state-indicator/distribution-by-fpl/?currentTimeframe=0&sortModel=%7B%22colId%22:%22Location%22,%22sort%22:%22asc%22%7D)"
   ]
  },
  {
   "cell_type": "code",
   "execution_count": 13,
   "id": "d60dbe3b",
   "metadata": {
    "scrolled": true
   },
   "outputs": [
    {
     "data": {
      "image/png": "[encoded data removed]",
      "text/plain": [
       "<Figure size 864x360 with 1 Axes>"
      ]
     },
     "metadata": {
      "needs_background": "light"
     },
     "output_type": "display_data"
    }
   ],
   "source": [
    "plt.figure(figsize = (12, 5))\n",
    "sns.barplot(data = adol, x = 'dep_anx_hist', y = 'FPL')\n",
    "plt.xlabel('History of Anxiety or Depression (1 = Yes)')\n",
    "plt.ylabel('FPL')\n",
    "plt.title('Average FPL by Child Anxiety or Depression History')\n",
    "adol['FPL'].groupby(by = adol['dep_anx_hist']).mean()\n",
    "plt.text(x = 0, y = 250, s = round(adol['FPL'].groupby(by = adol['dep_anx_hist']).mean()[1],1), color='white', ha=\"center\", fontsize = 16)\n",
    "plt.text(x = 1, y = 250, s = round(adol['FPL'].groupby(by = adol['dep_anx_hist']).mean()[2],1), color='black', ha=\"center\", fontsize = 16);"
   ]
  },
  {
   "cell_type": "markdown",
   "id": "eb8a2505",
   "metadata": {},
   "source": [
    "This is more important for our data integrity. Children from equal _average_ levels of economic status are represented in our sample. Below shows a density plot for the distribution of FPL by history of depression or anxiety. There is a larger proportion of FPL > 400 in the non-depressed/anxious group though. Economic status is associated with a lot of cognitive functions, such as Executive Function. There are also other variables that assess other factors influenced by socioeconomic status, such as community safety. "
   ]
  },
  {
   "cell_type": "code",
   "execution_count": 14,
   "id": "c98b211c",
   "metadata": {},
   "outputs": [
    {
     "data": {
      "image/png": "[encoded data removed]",
      "text/plain": [
       "<Figure size 864x360 with 1 Axes>"
      ]
     },
     "metadata": {
      "needs_background": "light"
     },
     "output_type": "display_data"
    }
   ],
   "source": [
    "plt.figure(figsize = (12, 5))\n",
    "sns.histplot(data = adol, x = 'FPL', hue= 'dep_anx_hist', color='red', stat = 'probability', kde=True, bins = 25)\n",
    "plt.title('Distribution of Family Poverty Level by History of Depression or Anxiety');"
   ]
  },
  {
   "cell_type": "code",
   "execution_count": 15,
   "id": "dc223dfe",
   "metadata": {
    "scrolled": true
   },
   "outputs": [
    {
     "data": {
      "image/png": "[encoded data removed]",
      "text/plain": [
       "<Figure size 432x288 with 1 Axes>"
      ]
     },
     "metadata": {
      "needs_background": "light"
     },
     "output_type": "display_data"
    }
   ],
   "source": [
    "sns.histplot(adol['MOMAGE'], color='red', stat = 'probability', kde=True, bins = 25)\n",
    "plt.title(\"Age of Mother at Child's Birth Distribution\");"
   ]
  },
  {
   "cell_type": "markdown",
   "id": "a5fed0bf",
   "metadata": {},
   "source": [
    "The age of a mother at the child's birth can have a large effect on certain kinds of birth defects or developmental defects. Note that responses coded as 18 include 18 and below, and responses coded as 45 include 45 and above. "
   ]
  },
  {
   "cell_type": "code",
   "execution_count": 16,
   "id": "58ef3aa3",
   "metadata": {
    "scrolled": false
   },
   "outputs": [
    {
     "data": {
      "image/png": "[encoded data removed]",
      "text/plain": [
       "<Figure size 864x576 with 1 Axes>"
      ]
     },
     "metadata": {
      "needs_background": "light"
     },
     "output_type": "display_data"
    }
   ],
   "source": [
    "plt.figure(figsize = (12, 8))\n",
    "momage_depanxhist = pd.DataFrame(adol['dep_anx_hist'].groupby(by = adol['MOMAGE']).mean())\n",
    "sns.scatterplot(data = momage_depanxhist, x = 'MOMAGE', y = 'dep_anx_hist')\n",
    "m, b = np.polyfit(momage_depanxhist.index, momage_depanxhist['dep_anx_hist'], 1)\n",
    "plt.plot(momage_depanxhist.index, m*momage_depanxhist.index + b)\n",
    "plt.xlabel('Age of Mother at Birth')\n",
    "plt.ylabel('Proportion of Children with Anxiety or Depression History')\n",
    "plt.title('Relationship between Age of Mother at Birth and Rate of Child Anxiety or Depression');"
   ]
  },
  {
   "cell_type": "code",
   "execution_count": 17,
   "id": "af87584d",
   "metadata": {},
   "outputs": [
    {
     "data": {
      "text/plain": [
       "0.035312110773162174"
      ]
     },
     "execution_count": 17,
     "metadata": {},
     "output_type": "execute_result"
    }
   ],
   "source": [
    "adol.corr()['dep_anx_hist'].loc['MOMAGE']"
   ]
  },
  {
   "cell_type": "markdown",
   "id": "8253df5d",
   "metadata": {},
   "source": [
    "This graph actually contradicts my assumption that older maternal age could be associated with more incidences of anxiety or depression. According to this data, the younger a mother is at birth, the higher the risk is of a child developing anxiety or depression sometime in their life. However, the correlation is pretty small. Nonetheless, parental age has a strong effect on family dynamics, parental maturity, financial security, and more. It will be interesting to see if this feature has much importance in the model."
   ]
  },
  {
   "cell_type": "code",
   "execution_count": 18,
   "id": "d604b195",
   "metadata": {
    "scrolled": true
   },
   "outputs": [
    {
     "data": {
      "image/png": "[encoded data removed]",
      "text/plain": [
       "<Figure size 432x288 with 1 Axes>"
      ]
     },
     "metadata": {
      "needs_background": "light"
     },
     "output_type": "display_data"
    }
   ],
   "source": [
    "# plot depression\n",
    "sns.barplot(data = adol, x = [2, 1], y = adol['K2Q32A'].value_counts(normalize = True))\n",
    "plt.xticks([0, 1], ['Yes', 'No'])\n",
    "plt.xlabel('History of Depression')\n",
    "plt.ylabel('Count')\n",
    "plt.title('History of Depression in Sample');\n",
    "plt.text(x = 0, y = .15, s = round(adol['K2Q32A'].value_counts(normalize = True)[1],3), color='black', ha=\"center\", fontsize = 16);\n",
    "plt.text(x = 1, y = .8, s = round(adol['K2Q32A'].value_counts(normalize = True)[2],3), color='black', ha=\"center\", fontsize = 16);"
   ]
  },
  {
   "cell_type": "code",
   "execution_count": 19,
   "id": "614ab286",
   "metadata": {
    "scrolled": true
   },
   "outputs": [
    {
     "data": {
      "image/png": "[encoded data removed]",
      "text/plain": [
       "<Figure size 432x288 with 1 Axes>"
      ]
     },
     "metadata": {
      "needs_background": "light"
     },
     "output_type": "display_data"
    }
   ],
   "source": [
    "# plot anxiety\n",
    "sns.barplot(data = adol, x = [2, 1], y = adol['K2Q33A'].value_counts(normalize = True))\n",
    "plt.xticks([0, 1], ['Yes', 'No'])\n",
    "plt.xlabel('History of Depression')\n",
    "plt.ylabel('Count')\n",
    "plt.title('History of Anxiety in Sample');\n",
    "plt.text(x = 0, y = .25, s = round(adol['K2Q33A'].value_counts(normalize = True)[1],3), color='black', ha=\"center\", fontsize = 16);\n",
    "plt.text(x = 1, y = .7, s = round(adol['K2Q33A'].value_counts(normalize = True)[2],3), color='black', ha=\"center\", fontsize = 16);\n"
   ]
  },
  {
   "cell_type": "code",
   "execution_count": 21,
   "id": "8100287a",
   "metadata": {
    "scrolled": true
   },
   "outputs": [
    {
     "data": {
      "image/png": "[encoded data removed]",
      "text/plain": [
       "<Figure size 432x288 with 1 Axes>"
      ]
     },
     "metadata": {
      "needs_background": "light"
     },
     "output_type": "display_data"
    }
   ],
   "source": [
    "# plot Anxiety OR Depression history\n",
    "sns.barplot(data = adol, x = [1, 0], y = adol['dep_anx_hist'].value_counts(normalize = True))\n",
    "plt.xticks([0, 1], ['Yes', 'No'])\n",
    "plt.xlabel('History of Anxiety or Depression')\n",
    "plt.ylabel('Count')\n",
    "plt.title('History of Anxiety or Depression in Sample');\n",
    "plt.text(x = 0, y = .25, s = round(adol['dep_anx_hist'].value_counts(normalize = True)[1],3), color='black', ha=\"center\", fontsize = 16);\n",
    "plt.text(x = 1, y = .65, s = round(adol['dep_anx_hist'].value_counts(normalize = True)[2],3), color='black', ha=\"center\", fontsize = 16);\n"
   ]
  },
  {
   "cell_type": "markdown",
   "id": "0df17afa",
   "metadata": {},
   "source": [
    "Depression and anxiety have a lot of common features. Some studies estimate the comorbidity of these disorders as over 50% ([Source](https://www.ncbi.nlm.nih.gov/pmc/articles/PMC181193/)). Given the imbalance between observations with a history of anxiety or depression and observations without, the classification model built will predict the presence of **either** of these disorders. Possible appraoches to the imbalanced classes will be the following:\n",
    "\n",
    "- Doing nothing\n",
    "- Oversampling the minority class (in this case, the patient class)\n",
    "- Using SMOTE\n",
    "- Undersampling the majority class (in this case, the non-patient class)\n",
    "- Weighting each class in the classification model appropriately\n",
    "- Adjusting the class cutoff threshold"
   ]
  },
  {
   "cell_type": "code",
   "execution_count": 23,
   "id": "e538bace",
   "metadata": {},
   "outputs": [
    {
     "data": {
      "text/html": [
       "<div>\n",
       "<style scoped>\n",
       "    .dataframe tbody tr th:only-of-type {\n",
       "        vertical-align: middle;\n",
       "    }\n",
       "\n",
       "    .dataframe tbody tr th {\n",
       "        vertical-align: top;\n",
       "    }\n",
       "\n",
       "    .dataframe thead th {\n",
       "        text-align: right;\n",
       "    }\n",
       "</style>\n",
       "<table border=\"1\" class=\"dataframe\">\n",
       "  <thead>\n",
       "    <tr style=\"text-align: right;\">\n",
       "      <th></th>\n",
       "      <th></th>\n",
       "      <th>ALTHEALTH</th>\n",
       "    </tr>\n",
       "    <tr>\n",
       "      <th>dep_anx_hist</th>\n",
       "      <th>ALTHEALTH</th>\n",
       "      <th></th>\n",
       "    </tr>\n",
       "  </thead>\n",
       "  <tbody>\n",
       "    <tr>\n",
       "      <th rowspan=\"2\" valign=\"top\">1</th>\n",
       "      <th>2.0</th>\n",
       "      <td>0.819575</td>\n",
       "    </tr>\n",
       "    <tr>\n",
       "      <th>1.0</th>\n",
       "      <td>0.180425</td>\n",
       "    </tr>\n",
       "    <tr>\n",
       "      <th rowspan=\"2\" valign=\"top\">2</th>\n",
       "      <th>2.0</th>\n",
       "      <td>0.902289</td>\n",
       "    </tr>\n",
       "    <tr>\n",
       "      <th>1.0</th>\n",
       "      <td>0.097711</td>\n",
       "    </tr>\n",
       "  </tbody>\n",
       "</table>\n",
       "</div>"
      ],
      "text/plain": [
       "                        ALTHEALTH\n",
       "dep_anx_hist ALTHEALTH           \n",
       "1            2.0         0.819575\n",
       "             1.0         0.180425\n",
       "2            2.0         0.902289\n",
       "             1.0         0.097711"
      ]
     },
     "execution_count": 23,
     "metadata": {},
     "output_type": "execute_result"
    }
   ],
   "source": [
    "pd.DataFrame(adol['ALTHEALTH'].groupby(by = adol['dep_anx_hist']).value_counts(normalize=True))"
   ]
  },
  {
   "cell_type": "markdown",
   "id": "b308d17c",
   "metadata": {},
   "source": [
    "1 = Yes for ALTHEALTH <br>\n",
    "2 = No for ALTHEALTH\n",
    "\n",
    "0 = Yes for dep_anx_hist <br>\n",
    "1 = No for dep_anx_hist <br>\n",
    "\n",
    "There is a higher occurence (double) of using Alternative Health Care (Alternative health care can include acupuncture, chiropractic care, relaxation therapies, herbal supplements, and others.) in children that have a history of anxiety and depression than in children that don't."
   ]
  },
  {
   "cell_type": "markdown",
   "id": "88197161",
   "metadata": {},
   "source": [
    "# Data Cleaning\n",
    "----"
   ]
  },
  {
   "cell_type": "markdown",
   "id": "2ed5e0be",
   "metadata": {},
   "source": [
    "Some nulls are OKAY, and indicate logic tree usage. However, columns that have over 20% of their data as nulls are not going to be helpful in our model. \n",
    "\n",
    "### Non-Skip Logic Columns:"
   ]
  },
  {
   "cell_type": "code",
   "execution_count": 24,
   "id": "67f9eb4e",
   "metadata": {},
   "outputs": [],
   "source": [
    "# these are the columns with nulls that are NOT due to a skip-logic clause\n",
    "non_skip_cols = [ \n",
    "    'SC_K2Q19', 'SC_K2Q22', 'HOUSE_GEN', 'FAMILY_R','BMICLASS',\n",
    "    'SC_ENGLISH', 'SC_K2Q10', 'SC_K2Q13', 'SC_K2Q16',\n",
    "    'BEDTIME', 'ACE1', 'MAKEFRIEND', 'K4Q30_R',\n",
    "    'K8Q21','K8Q30', 'K7Q33', 'BIRTHWT_OZ_S',\n",
    "    'K7Q30', 'K7Q31', 'HOSPITALER', 'K4Q04_R',\n",
    "    'REPEATED', 'AVOIDCHG','CUTHOURS','STOPWORK',\n",
    "    'K3Q25','CURRCOV','K4Q36','K6Q15','HOSPITALSTAY',\n",
    "    'K4Q27','ALTHEALTH','K4Q23','K4Q31_R','USUALGO','K4Q01',\n",
    "    'OVERWEIGHT','S4Q01','K2Q05','K2Q31A','K2Q30A',                   \n",
    "    'K2Q60A', 'K2Q37A', 'K2Q34A','SUBABUSE', 'GENETIC', \n",
    "    'BLOOD', 'K2Q38A', 'HEADACHE', 'HEART', 'K2Q42A',\n",
    "    'K2Q41A', 'K2Q61A', 'K2Q40A', 'ARTHRITIS', 'ALLERGIES', \n",
    "    'BLINDNESS', 'PHYSICALPAIN', 'TOOTHACHES', 'GUMBLEED', \n",
    "    'CAVITIES', 'MEMORYCOND',\n",
    "    'WALKSTAIRS', 'DRESSING', 'ERRANDALONE',\n",
    "    'FAMCOUNT', 'BREATHING', 'SWALLOWING', 'STOMACH',\n",
    "    'A1_AGE', 'K11Q43R', 'MOMAGE', 'HHLANGUAGE','K7Q32','K7Q37','K7Q38', \n",
    "    'BORNUSA', 'K8Q35', 'K9Q40', 'MOLD', 'K11Q60', \n",
    "    'K11Q61', 'K11Q62', 'S9Q34', 'K10Q11', 'K10Q12', \n",
    "    'K10Q13', 'K10Q14', 'K10Q20', 'K10Q22', 'K10Q23',\n",
    "    'K9Q96', 'ACE3', 'ACE4', 'ACE5', 'ACE6', 'ACE7', \n",
    "    'ACE8', 'ACE9', 'ACE10', 'A1_K11Q50_R', 'K2Q01', 'K2Q01_D', \n",
    "    'K6Q71_R', 'K7Q84_R', 'K7Q85_R', 'K7Q82_R',\n",
    "    'K7Q83_R', 'K7Q70_R', 'BULLIED_R', 'BULLY', \n",
    "    'TALKABOUT', 'WKTOSOLVE', 'STRENGTHS', 'HOPEFUL',\n",
    "    'A1_PHYSHEALTH', 'A1_MENTHEALTH', \n",
    "    'K10Q30', 'K10Q31', 'K10Q40_R', 'GOFORHELP', \n",
    "    'K10Q41_R', 'K8Q31','K8Q32', 'K8Q34', 'A1_BORN', \n",
    "    'A1_MARITAL', 'A1_ACTIVE','HOWMUCH', 'ATHOMEHC', \n",
    "    'ARRANGEHC', 'K7Q02R_R', 'K7Q04R_R', 'PHYSACTIV', \n",
    "    'HOURSLEEP', 'SCREENTIME', 'K8Q11', 'FOODSIT', \n",
    "    'PESTICIDE','POSCHOICE', 'GAINSKILLS', 'CHANGEAGE', \n",
    "    'HCABILITY', 'K4Q22_R', 'K4Q24_R', 'C4Q04',    \n",
    "]"
   ]
  },
  {
   "cell_type": "code",
   "execution_count": 26,
   "id": "898e0000",
   "metadata": {},
   "outputs": [
    {
     "data": {
      "text/plain": [
       "K3Q25    1823\n",
       "dtype: int64"
      ]
     },
     "execution_count": 26,
     "metadata": {},
     "output_type": "execute_result"
    }
   ],
   "source": [
    "# find column(s) from non_skip_cols that contains greater than 5% missing data and drop it\n",
    "too_many_nulls = adol[non_skip_cols].isnull().sum()[adol[non_skip_cols].isnull().sum() > (.05*adol.shape[0])].index"
   ]
  },
  {
   "cell_type": "code",
   "execution_count": 27,
   "id": "df366e9c",
   "metadata": {
    "scrolled": true
   },
   "outputs": [],
   "source": [
    "adol = adol.drop(columns = too_many_nulls)"
   ]
  },
  {
   "cell_type": "markdown",
   "id": "15f1556e",
   "metadata": {},
   "source": [
    "# Coded Questions\n",
    "\n",
    "Combine relevant questions that use skip logic into one column. Also get average values between parents.\n",
    "\n",
    "----"
   ]
  },
  {
   "cell_type": "code",
   "execution_count": 28,
   "id": "c2c58a14",
   "metadata": {},
   "outputs": [],
   "source": [
    "ever_q = [\n",
    "    'ALLERGIES',         \n",
    "    'ARTHRITIS',          \n",
    "    'BLOOD', \n",
    "    'GENETIC', \n",
    "    'HEADACHE',\n",
    "    'HEART',\n",
    "    'K2Q30A',          \n",
    "    'K2Q31A',\n",
    "    'K2Q34A',\n",
    "    'K2Q37A',\n",
    "    'K2Q38A',\n",
    "    'K2Q40A',\n",
    "    'K2Q41A',\n",
    "    'K2Q42A',\n",
    "    'K4Q36',\n",
    "    'K6Q15',\n",
    "    'SUBABUSE'\n",
    "]\n",
    "\n",
    "logic_q = [\n",
    "    'ALLERGIES_CURR',            \n",
    "    'ARTHRITIS_CURR',             \n",
    "    'BLOOD_DESC',              \n",
    "    'GENETIC_DESC',             \n",
    "    'HEADACHE_CURR',             \n",
    "    'HEART_CURR',             \n",
    "    'K2Q30B',             \n",
    "    'K2Q31B',             \n",
    "    'K2Q34B',             \n",
    "    'K2Q37B',             \n",
    "    'K2Q38B',             \n",
    "    'K2Q40B',             \n",
    "    'K2Q41B',             \n",
    "    'K2Q42B',             \n",
    "    'K4Q38',             \n",
    "    'SESCURRSVC',             \n",
    "    'SUBABUSE_CURR'       \n",
    "]\n",
    "\n",
    "logic_list = list(zip(ever_q, logic_q))"
   ]
  },
  {
   "cell_type": "markdown",
   "id": "79096771",
   "metadata": {},
   "source": [
    "This code will do the following:\n",
    "\n",
    "- for questions that ask if child has ever had X, then if the child currently has X, responses will be coded 0 for never had, 1 for had X but not currently, and 2 for currently has X\n",
    "\n",
    "- for questions that ask if the child has X and how severe X is, responses will be coded 0 for doesn't have, 1 for mild, 2 for moderate, and 3 for severe. "
   ]
  },
  {
   "cell_type": "code",
   "execution_count": null,
   "id": "ef29bde4",
   "metadata": {},
   "outputs": [],
   "source": [
    "for item in logic_list:\n",
    "    data = []\n",
    "    if max(adol[item[1]]) == 2: # if it is a \"current\" yes/no question\n",
    "        for i in range(len(adol[item[0]])):      \n",
    "            if adol[item[0]][i] == 2:\n",
    "                data.append(0)\n",
    "            elif adol[item[1]][i] == 2:\n",
    "                data.append(1)\n",
    "            elif adol[itme[1]][i] == 1:\n",
    "                data.append(2)\n",
    "    else: # if it is a severity mild/mod/severe question\n",
    "        for i in range(len(adol[item[0]])):\n",
    "            if adol[item[0]][i] == 2:\n",
    "                data.append(0)\n",
    "            else:\n",
    "                data.append(adol[item[1]][i])\n",
    "      \n",
    "    adol[f'{item[0]}_1'] = data # makes new column with coded data"
   ]
  },
  {
   "cell_type": "code",
   "execution_count": 29,
   "id": "b6164991",
   "metadata": {},
   "outputs": [],
   "source": [
    "# now, drop the columns we just coded from\n",
    "adol.drop(columns = ever_q + logic_q, inplace = True)"
   ]
  },
  {
   "cell_type": "code",
   "execution_count": 30,
   "id": "89940333",
   "metadata": {},
   "outputs": [],
   "source": [
    "# create averages across adults since not every child has 2 parents\n",
    "adol['adult_avg_age'] = adol.loc[: , ['A1_AGE','A2_AGE']].mean(axis=1)\n",
    "adol['adult_avg_employed'] = adol.loc[:, ['A1_K11Q50_R', 'A2_K11Q50_R']].mean(axis = 1)\n",
    "adol['adult_avg_physhealth'] = adol.loc[:, ['A1_PHYSHEALTH', 'A2_PHYSHEALTH']].mean(axis = 1)\n",
    "adol['adult_avg_menthealth'] = adol.loc[:, ['A1_MENTHEALTH', 'A2_MENTHEALTH']].mean(axis = 1)\n",
    "adol['has_nonusa_parent'] = [2 if adol['A1_BORN'][i] == 2 or adol['A2_BORN'][i] == 2 else 1 for i in range(adol.shape[0])]\n",
    "adol['has_two_parents'] = [1 if adol['A2_RELATION'][i] != 8 else 2 for i in range(adol.shape[0])]\n",
    "\n",
    "\n",
    "\n",
    "adol['adult_avg_age'] = [adol['A1_AGE'][i] if adol['adult_avg_age'][i] == np.nan else adol['adult_avg_age'][i] for i in range(adol.shape[0])]\n",
    "adol['adult_avg_employed'] = [adol['A1_K11Q50_R'][i] if adol['adult_avg_employed'][i] == np.nan else adol['A1_K11Q50_R'][i] for i in range(adol.shape[0])]\n",
    "adol['adult_avg_physhealth'] = [adol['A1_PHYSHEALTH'][i] if adol['adult_avg_physhealth'][i] == np.nan else adol['A1_PHYSHEALTH'][i] for i in range(adol.shape[0])]\n",
    "adol['adult_avg_menthealth'] = [adol['A1_MENTHEALTH'][i] if adol['adult_avg_menthealth'][i] == np.nan else adol['A1_MENTHEALTH'][i] for i in range(adol.shape[0])]\n"
   ]
  },
  {
   "cell_type": "code",
   "execution_count": 31,
   "id": "e95a7b7f",
   "metadata": {},
   "outputs": [],
   "source": [
    "# drop more columns - either unneeded due to coding above or irrelevant after further analysis\n",
    "adol = adol.drop(columns = [\n",
    "    'A2_DEPLSTAT',\n",
    "    'A1_DEPLSTAT',\n",
    "    'A1_ACTIVE',\n",
    "    'A2_ACTIVE',\n",
    "    'A1_AGE',\n",
    "    'A2_AGE',\n",
    "    'BLINDNESS',\n",
    "    'HCEXTENT',\n",
    "    'BORNUSA',\n",
    "    'MENBEVCOV',\n",
    "    'EMOSUPSPO',\n",
    "    'K2Q61A',\n",
    "    'K2Q60A',\n",
    "    'K4Q20R',\n",
    "    'K4Q01',\n",
    "    'EMOSUPFAM',\n",
    "    'EMOSUPOTH',\n",
    "    'EMOSUPPEER',\n",
    "    'EMOSUPADV',\n",
    "    'EMOSUPWOR',\n",
    "    'EMOSUPHCP',\n",
    "    'EMOSUPMHP',\n",
    "    'K9Q41',\n",
    "    'KEEPINSADULT',\n",
    "    'BESTFORCHILD',\n",
    "    'ALLERGIES_DESC',\n",
    "    'K2Q46B',\n",
    "    'K2Q31D',\n",
    "    'ADDTREAT',\n",
    "    'K2Q32B',\n",
    "    'K2Q32C',\n",
    "    'K2Q33C',\n",
    "    'K2Q33B',\n",
    "    'LIVEUSA_YR',\n",
    "    'A2_MENTHEALTH',\n",
    "    'A2_K11Q50_R',\n",
    "    'A2_PHYSHEALTH',\n",
    "    'A2_BORN',\n",
    "    'A2_MARITAL',\n",
    "    'A2_RELATION',\n",
    "    'A1_AGE',\n",
    "    'A1_K11Q50_R',\n",
    "    'A1_PHYSHEALTH',\n",
    "    'A1_MENTHEALTH',\n",
    "    'A1_BORN', \n",
    "    'A1_MARITAL',\n",
    "    'ATHOMEHC',\n",
    "    'ARRANGEHC',\n",
    "    'CHANGEAGE',\n",
    "    'GAINSKILLS',\n",
    "    'POSCHOICE'\n",
    "\n",
    "])"
   ]
  },
  {
   "cell_type": "markdown",
   "id": "49cd1236",
   "metadata": {},
   "source": [
    "# Rename Columns\n",
    "\n",
    "Create a map for column names. Many are unidentifiable codes (K2Q30). \n",
    "\n",
    "----"
   ]
  },
  {
   "cell_type": "code",
   "execution_count": 32,
   "id": "473441dc",
   "metadata": {},
   "outputs": [],
   "source": [
    "column_dict = {\n",
    "    'HHLANGUAGE': 'home_lang', \n",
    "    'SC_AGE_YEARS': 'age', \n",
    "    'SC_SEX': 'sex', \n",
    "    'MOMAGE': 'mom_age',\n",
    "    'K11Q43R': 'times_moved', \n",
    "    'HHCOUNT': 'household_count', \n",
    "    'FAMCOUNT': 'fam_count', \n",
    "    'K2Q33A': 'anxiety', \n",
    "    'K2Q32A': 'depression', \n",
    "    'K2Q05': 'born_early', \n",
    "    'S4Q01': 'doc_visit', \n",
    "    'K4Q31_R': 'vision_test', \n",
    "    'K4Q23': 'psych_meds', \n",
    "    'K4Q27': 'need_not_rec',  \n",
    "    'K7Q30': 'sports',\n",
    "    'K7Q31': 'clubs', \n",
    "    'K7Q32': 'org_activity', \n",
    "    'K7Q37': 'volunteer', \n",
    "    'K7Q38': 'job', \n",
    "    'K8Q35': 'adult_emo_supp', \n",
    "    'K9Q40': 'cigarettes', \n",
    "    'K11Q60': 'cash_assist',\n",
    "    'K11Q61': 'food_stamps', \n",
    "    'K11Q62': 'school_lunch',\n",
    "    'S9Q34': 'wic_benefits', \n",
    "    'K10Q11': 'sidewalks', \n",
    "    'K10Q12': 'park', \n",
    "    'K10Q13': 'rec_center', \n",
    "    'K10Q14': 'library', \n",
    "    'K10Q20': 'litter_on_street', \n",
    "    'K10Q22': 'rundown_housing',      \n",
    "    'K10Q23': 'vandalism', \n",
    "    'K9Q96': 'other_adult', \n",
    "    'K2Q01': 'gen_health', \n",
    "    'K2Q01_D': 'teeth_cond', \n",
    "    'K6Q71_R': 'curious', \n",
    "    'K7Q84_R': 'finish_tasks', \n",
    "    'K7Q85_R': 'stay_calm',\n",
    "    'K7Q82_R': 'cares_school', \n",
    "    'K7Q83_R': 'does_hw', \n",
    "    'K7Q70_R': 'argues', \n",
    "    'K10Q30': 'neighbors_help', \n",
    "    'K10Q31': 'neighbors_watch_kids', \n",
    "    'K10Q40_R': 'safe_neigh',\n",
    "    'K10Q41_R': 'safe_school', \n",
    "    'K8Q31': 'harder_care_for', \n",
    "    'K8Q32': 'child_bothers', \n",
    "    'K8Q34': 'angry_at_child', \n",
    "    'K7Q02R_R': 'missed_school', \n",
    "    'K7Q04R_R': 'school_prob', \n",
    "    'K8Q11': 'fam_meal', \n",
    "    'K4Q22_R': 'mental_treat', \n",
    "    'K4Q24_R': 'specialist_treat', \n",
    "    'C4Q04': 'frustrated_service', \n",
    "    'K4Q04_R': 'personal_doc',\n",
    "    'K8Q21': 'deep_talks', \n",
    "    'K8Q30': 'adult_handling', \n",
    "    'K7Q33': 'events_activities', \n",
    "    'K4Q30_R': 'dental_visit',       \n",
    "    'SC_RACE_R': 'child_race', \n",
    "    'SC_HISPANIC_R': 'child_hisp', \n",
    "    'SC_ENGLISH': 'english_ability', \n",
    "    'SC_K2Q10': 'on_medication', \n",
    "    'SC_K2Q13': 'more_care_v_others',\n",
    "    'SC_K2Q16': 'child_limited', \n",
    "    'SC_K2Q19': 'special_therapy', \n",
    "    'SC_K2Q22': 'psych_counseling', \n",
    "    'HIGRADE_TVIS': 'max_adult_edu', \n",
    "    'K2Q30A_1': 'learning_dis',\n",
    "    'K2Q31A_1': 'ADHD', \n",
    "    'K2Q34A_1': 'behav_probs', \n",
    "    'K2Q37A_1': 'speech_dis',\n",
    "    'K2Q38A_1': 'tourettes', \n",
    "    'K2Q40A_1': 'asthma', \n",
    "    'K2Q41A_1': 'diabetes', \n",
    "    'K2Q42A_1': 'epilepsy', \n",
    "    'K4Q36_1': 'spec_services', \n",
    "    'K6Q15_1': 'spec_plan',\n",
    "}\n",
    "\n",
    "adol = adol.rename(columns = column_dict)"
   ]
  },
  {
   "cell_type": "markdown",
   "id": "ad198c29",
   "metadata": {},
   "source": [
    "Some questions have two levels of \"no\" or \"yes.\" In order to simplify our data, we are going to group the \"no's\" and \"yes's\" together."
   ]
  },
  {
   "cell_type": "code",
   "execution_count": 33,
   "id": "0f6c7520",
   "metadata": {},
   "outputs": [],
   "source": [
    "# Recoding/Simplifying variables\n",
    "# # 1, 2 = yes; 3 = no\n",
    "adol['personal_doc'] = adol['personal_doc'].map({1:1, 2:1, 3:2})\n",
    "adol['dental_visit'] = adol['dental_visit'].map({1:1, 2:1, 3:2})\n",
    "\n",
    "# 1 = yes; 2,3 = no\n",
    "adol['mental_treat'] = adol['mental_treat'].map({1:1, 2:2, 3:2})\n",
    "adol['specialist_treat'] = adol['specialist_treat'].map({1:1, 2:2, 3:2})\n",
    "\n",
    "# 6 needs to be 0\n",
    "adol['missed_school'] = [0 if adol['missed_school'][i] == 6 else adol['missed_school'][i] for i in range(adol.shape[0])]\n",
    "\n",
    "# # -1 from each value\n",
    "adol['HCABILITY'] = adol['HCABILITY'] - 1\n",
    "\n",
    "# # 8 --> nan\n",
    "adol['PESTICIDE'] = [np.nan if adol['PESTICIDE'][i] == 8 else adol['PESTICIDE'][i] for i in range(adol.shape[0])]\n",
    "\n"
   ]
  },
  {
   "cell_type": "markdown",
   "id": "b018f217",
   "metadata": {},
   "source": [
    "# Dealing with Nulls\n",
    "\n",
    "We are going to use a KNNImputer since many of our variables are ordinal.\n",
    "\n",
    "----"
   ]
  },
  {
   "cell_type": "code",
   "execution_count": 35,
   "id": "7756e461",
   "metadata": {},
   "outputs": [],
   "source": [
    "# impute\n",
    "knn_imp = KNNImputer()\n",
    "\n",
    "knn_imp_adol = knn_imp.fit_transform(adol)\n",
    "\n",
    "knn_imp_adol = pd.DataFrame(knn_imp_adol,\n",
    "                                     columns = adol.columns)"
   ]
  },
  {
   "cell_type": "code",
   "execution_count": 46,
   "id": "b637f185",
   "metadata": {},
   "outputs": [],
   "source": [
    "# round values from imputed columns\n",
    "cols_to_round = adol.columns[adol.isnull().sum() > 0]\n",
    "for col in cols_to_round:\n",
    "     knn_imp_adol[col] = round(knn_imp_adol[col])"
   ]
  },
  {
   "cell_type": "markdown",
   "id": "6729c53b",
   "metadata": {},
   "source": [
    "# Dealing with Categorical and Ordinal Variables\n",
    "\n",
    "Many of the variables are categorical or ordinal. The following tactics will be applied to these variables:\n",
    "\n",
    "- Dummy code (categorical)\n",
    "- Leave as ordinal if distance between options is identical\n",
    "---"
   ]
  },
  {
   "cell_type": "code",
   "execution_count": 64,
   "id": "a622171b",
   "metadata": {},
   "outputs": [],
   "source": [
    "# change yes/no questions that use 1 and 2 to 0 and 1s instead\n",
    "one_two_cols = [col for col in knn_imp_adol.columns if len(knn_imp_adol[col].unique()) == 2 ]\n",
    "\n",
    "one_two_map = {\n",
    "    1:1, \n",
    "    2:0\n",
    "}\n",
    "\n",
    "for col in one_two_cols:\n",
    "    knn_imp_adol[col] = knn_imp_adol[col].map(one_two_map)"
   ]
  },
  {
   "cell_type": "code",
   "execution_count": 68,
   "id": "045497db",
   "metadata": {},
   "outputs": [],
   "source": [
    "# create dummy variables\n",
    "dummy_cols = [\n",
    "    'FAMILY_R',\n",
    "    'HOUSE_GEN',\n",
    "    'AGEPOS4',\n",
    "    'child_race',\n",
    "    'home_lang'   \n",
    "]\n",
    "\n",
    "df = pd.get_dummies(knn_imp_adol, columns = dummy_cols, drop_first = True)"
   ]
  },
  {
   "cell_type": "code",
   "execution_count": 71,
   "id": "ad049380",
   "metadata": {},
   "outputs": [],
   "source": [
    "# save dataframe\n",
    "df.to_csv('Data/model_df.csv', index = False)"
   ]
  }
 ],
 "metadata": {
  "kernelspec": {
   "display_name": "env",
   "language": "python",
   "name": "env"
  },
  "language_info": {
   "codemirror_mode": {
    "name": "ipython",
    "version": 3
   },
   "file_extension": ".py",
   "mimetype": "text/x-python",
   "name": "python",
   "nbconvert_exporter": "python",
   "pygments_lexer": "ipython3",
   "version": "3.8.8"
  }
 },
 "nbformat": 4,
 "nbformat_minor": 5
}
