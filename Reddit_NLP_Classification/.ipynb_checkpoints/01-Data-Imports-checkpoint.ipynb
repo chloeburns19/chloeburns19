{
 "cells": [
  {
   "cell_type": "code",
   "execution_count": 84,
   "metadata": {},
   "outputs": [],
   "source": [
    "# imports and set API url\n",
    "import requests\n",
    "import pandas as pd\n",
    "import numpy as np\n",
    "import time\n",
    "\n",
    "url = 'https://api.pushshift.io/reddit/search/submission'     "
   ]
  },
  {
   "cell_type": "code",
   "execution_count": 87,
   "metadata": {},
   "outputs": [],
   "source": [
    "# create a function to aggregate 10_000 posts per subreddit\n",
    "\n",
    "def get_posts_retail(url):\n",
    "    #set date\n",
    "    before_date = 1621889311 #change this to \"today\"\n",
    "    all_posts = pd.DataFrame()\n",
    "    # loop through 100 posts in a given period to get 1000 posts per subreddit\n",
    "    for sub in ['TalesFromRetail', 'talesfromtechsupport']:\n",
    "        for i in range(100):\n",
    "            params = {\n",
    "                'subreddit'   : sub,\n",
    "                'size'        : 100,\n",
    "                'pinned'      : False, \n",
    "                'selftext:not': '[removed]',\n",
    "                'before'      : before_date\n",
    "                }  \n",
    "\n",
    "            res = requests.get(url, params)\n",
    "            \n",
    "            try:\n",
    "                res.raise_for_status() \n",
    "            except:\n",
    "                print('Bad Request: ', res.status_code, i, before_date)\n",
    "                \n",
    "            if 'json' in res.headers.get('Content-Type'):\n",
    "                data = res.json()\n",
    "                posts = data['data']\n",
    "                posts_df = pd.DataFrame(posts)[['subreddit', 'title', 'selftext', 'author', 'created_utc']]       \n",
    "                before_date = posts_df['created_utc'].min()\n",
    "                all_posts = all_posts.append(posts_df, ignore_index=True)\n",
    "            else:\n",
    "                print('Response content is not in JSON format.')\n",
    "                return res\n",
    "            if i%10 == 0:\n",
    "                print(f'{i} Iteration')\n",
    "            time.sleep(1) # give time between requests  \n",
    "                                \n",
    "    return all_posts    "
   ]
  },
  {
   "cell_type": "code",
   "execution_count": 88,
   "metadata": {
    "scrolled": true
   },
   "outputs": [
    {
     "name": "stdout",
     "output_type": "stream",
     "text": [
      "0 Iteration\n",
      "10 Iteration\n",
      "20 Iteration\n",
      "30 Iteration\n",
      "40 Iteration\n",
      "50 Iteration\n",
      "60 Iteration\n",
      "70 Iteration\n",
      "80 Iteration\n",
      "90 Iteration\n",
      "0 Iteration\n",
      "10 Iteration\n",
      "20 Iteration\n",
      "30 Iteration\n",
      "40 Iteration\n",
      "50 Iteration\n",
      "60 Iteration\n",
      "70 Iteration\n",
      "80 Iteration\n",
      "90 Iteration\n"
     ]
    }
   ],
   "source": [
    "# run function\n",
    "df = get_posts_retail(url)"
   ]
  },
  {
   "cell_type": "code",
   "execution_count": 91,
   "metadata": {},
   "outputs": [],
   "source": [
    "# drop na's\n",
    "df.dropna(inplace = True)"
   ]
  },
  {
   "cell_type": "code",
   "execution_count": 94,
   "metadata": {},
   "outputs": [],
   "source": [
    "# export to csv\n",
    "df.to_csv('data/posts.csv')"
   ]
  }
 ],
 "metadata": {
  "kernelspec": {
   "display_name": "env",
   "language": "python",
   "name": "env"
  },
  "language_info": {
   "codemirror_mode": {
    "name": "ipython",
    "version": 3
   },
   "file_extension": ".py",
   "mimetype": "text/x-python",
   "name": "python",
   "nbconvert_exporter": "python",
   "pygments_lexer": "ipython3",
   "version": "3.8.8"
  }
 },
 "nbformat": 4,
 "nbformat_minor": 4
}
