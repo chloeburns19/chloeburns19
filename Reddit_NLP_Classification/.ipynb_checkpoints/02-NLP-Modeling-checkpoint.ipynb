{
 "cells": [
  {
   "cell_type": "code",
   "execution_count": 82,
   "id": "ffcf7a79",
   "metadata": {},
   "outputs": [],
   "source": [
    "# imports\n",
    "from bs4 import BeautifulSoup\n",
    "import pandas as pd, numpy as np\n",
    "from sklearn.model_selection import train_test_split, GridSearchCV\n",
    "from sklearn.feature_extraction.text import CountVectorizer, TfidfVectorizer\n",
    "from sklearn.pipeline import Pipeline\n",
    "from sklearn.naive_bayes import MultinomialNB\n",
    "from sklearn.metrics import confusion_matrix, plot_confusion_matrix, plot_roc_curve, precision_score, recall_score, classification_report\n",
    "from sklearn.linear_model import LogisticRegression\n",
    "import matplotlib.pyplot as plt\n",
    "import warnings as warn\n",
    "\n",
    "warn.filterwarnings('ignore')"
   ]
  },
  {
   "cell_type": "code",
   "execution_count": 2,
   "id": "be175fec",
   "metadata": {
    "scrolled": true
   },
   "outputs": [],
   "source": [
    "# read in data\n",
    "corpus = pd.read_csv('data/posts.csv', index_col= 'Unnamed: 0')"
   ]
  },
  {
   "cell_type": "markdown",
   "id": "f5e668f0",
   "metadata": {},
   "source": [
    "# Quick Cleaning and Train Test Split"
   ]
  },
  {
   "cell_type": "code",
   "execution_count": 7,
   "id": "c306845b",
   "metadata": {},
   "outputs": [],
   "source": [
    "# drop na's\n",
    "corpus.dropna(inplace = True)\n",
    "\n",
    "# recode target variable\n",
    "# 1 = Tech, 0 = Retail\n",
    "corpus['subreddit'] = corpus['subreddit'].map({'TalesFromRetail': 0, 'talesfromtechsupport': 1})\n",
    "\n",
    "# train test split data\n",
    "X = corpus['selftext']\n",
    "y = corpus['subreddit']\n",
    "X_train, X_test, y_train, y_test = train_test_split(\n",
    "  X,\n",
    "  y,\n",
    "  test_size=0.33,\n",
    "  random_state=8,\n",
    "  stratify=y\n",
    ")"
   ]
  },
  {
   "cell_type": "markdown",
   "id": "621da582",
   "metadata": {},
   "source": [
    "# EDA"
   ]
  },
  {
   "cell_type": "code",
   "execution_count": 11,
   "id": "328a9892",
   "metadata": {
    "scrolled": true
   },
   "outputs": [
    {
     "data": {
      "image/png": "[encoded data removed]",
      "text/plain": [
       "<Figure size 432x288 with 1 Axes>"
      ]
     },
     "metadata": {
      "needs_background": "light"
     },
     "output_type": "display_data"
    }
   ],
   "source": [
    "# most common words in whole corpus\n",
    "cvec = CountVectorizer()\n",
    "cvec.fit(X_train)\n",
    "X_train_cvec = cvec.transform(X_train)\n",
    "X_train_df = pd.DataFrame(X_train_cvec.todense(), columns= cvec.get_feature_names())\n",
    "X_train_df.sum().sort_values(ascending = False).head(10).sort_values(ascending = False).plot(kind = 'barh')\n",
    "plt.xlabel('Count')\n",
    "plt.title('Top Words in Corpus');"
   ]
  },
  {
   "cell_type": "markdown",
   "id": "c67e3e4b",
   "metadata": {},
   "source": [
    "- Our top words in the corpus are not helpful in classifying between subreddits, we should employ stopwords."
   ]
  },
  {
   "cell_type": "code",
   "execution_count": 12,
   "id": "f17986f6",
   "metadata": {
    "scrolled": true
   },
   "outputs": [
    {
     "data": {
      "image/png": "[encoded data removed]",
      "text/plain": [
       "<Figure size 432x288 with 1 Axes>"
      ]
     },
     "metadata": {
      "needs_background": "light"
     },
     "output_type": "display_data"
    }
   ],
   "source": [
    "# most common words in Tech Support (y == 1), use stop words\n",
    "cvec = CountVectorizer(stop_words='english')\n",
    "cvec.fit(X_train)\n",
    "X_train_cvec = cvec.transform(X_train)\n",
    "X_train_df = pd.DataFrame(X_train_cvec[y_train == 1].todense(), columns= cvec.get_feature_names())\n",
    "X_train_df.sum().sort_values(ascending = False).head(10).sort_values(ascending = False).plot(kind = 'barh')\n",
    "plt.xlabel('Count')\n",
    "plt.title('Top Words in Tales from Tech Support');"
   ]
  },
  {
   "cell_type": "markdown",
   "id": "f992ebfd",
   "metadata": {},
   "source": [
    "- \"\\&gt\" stands for the greater-than sign: >"
   ]
  },
  {
   "cell_type": "code",
   "execution_count": 13,
   "id": "b991095a",
   "metadata": {},
   "outputs": [
    {
     "data": {
      "image/png": "[encoded data removed]",
      "text/plain": [
       "<Figure size 432x288 with 1 Axes>"
      ]
     },
     "metadata": {
      "needs_background": "light"
     },
     "output_type": "display_data"
    }
   ],
   "source": [
    "# most common words in Retail (y == 0), use stop words\n",
    "X_train_df = pd.DataFrame(X_train_cvec[y_train == 0].todense(), columns= cvec.get_feature_names())\n",
    "X_train_df.sum().sort_values(ascending = False).head(10).sort_values(ascending = False).plot(kind = 'barh');\n",
    "plt.xlabel('Count')\n",
    "plt.title('Top Words in Tales from Retail');"
   ]
  },
  {
   "cell_type": "markdown",
   "id": "950ded71",
   "metadata": {},
   "source": [
    "- \"don\" is an abbreviation of don't usually"
   ]
  },
  {
   "cell_type": "code",
   "execution_count": 14,
   "id": "9783e09b",
   "metadata": {},
   "outputs": [
    {
     "data": {
      "text/plain": [
       "1    0.508101\n",
       "0    0.491899\n",
       "Name: subreddit, dtype: float64"
      ]
     },
     "execution_count": 14,
     "metadata": {},
     "output_type": "execute_result"
    }
   ],
   "source": [
    "# baseline accuracy\n",
    "y.value_counts(normalize = True)"
   ]
  },
  {
   "cell_type": "markdown",
   "id": "dc1618be",
   "metadata": {},
   "source": [
    "- Our baseline accuracy is 50.8%, if we guessed 'talesfromtechsupport' every time"
   ]
  },
  {
   "cell_type": "markdown",
   "id": "a7914afe",
   "metadata": {},
   "source": [
    "# MNB Model"
   ]
  },
  {
   "cell_type": "code",
   "execution_count": 50,
   "id": "087db297",
   "metadata": {},
   "outputs": [],
   "source": [
    "pipe = Pipeline([\n",
    "  ('tvec', TfidfVectorizer()),\n",
    "  ('mnb', MultinomialNB())\n",
    "])\n",
    "\n",
    "pipe_params = {\n",
    "    \"tvec__max_features\": [4930 , 4950, 4940, 4960],\n",
    "    \"tvec__stop_words\"  : [\"english\"],\n",
    "    \"tvec__ngram_range\" : [(1, 2)],\n",
    "    \"tvec__min_df\"      : [0],\n",
    "    \"tvec__max_df\"      : [.725, .73, .735]\n",
    "    \n",
    "}\n",
    "\n",
    "gs = GridSearchCV(pipe,\n",
    "                  param_grid=pipe_params,\n",
    "                  cv=5,\n",
    "                  verbose = 100,\n",
    "                  n_jobs= 7\n",
    "                 )\n",
    "gs.fit(X_train, y_train)\n",
    "\n",
    "print(f'Gridsearch Best Score: {gs.best_score_}')\n",
    "print('--------------------')\n",
    "\n",
    "print(f'Gridsearch Best Params: {gs.best_params_}')\n",
    "print('--------------------')\n",
    "\n",
    "best_model = gs.best_estimator_\n",
    "best_model.fit(X_train, y_train)\n",
    "print(f'Testing Accuracy: {best_model.score(X_test, y_test)}')\n",
    "print(f'Training Accuracy: {best_model.score(X_train, y_train)}')"
   ]
  },
  {
   "cell_type": "markdown",
   "id": "a65f3463",
   "metadata": {},
   "source": [
    "- Our testing accuracy is slightly higher than our training accuracy, suggesting our model's fit is good\n",
    "- We settled on a Max DF of 80%, meaning that for a word to be included in our features it could not be present in more than 80% of documents. \n",
    "- Our Min DF was 0%, indicating that a word did not have to be present in more than one document to be considered a feature\n",
    "- We had 5000 maximum number of features in our model"
   ]
  },
  {
   "cell_type": "code",
   "execution_count": 53,
   "id": "98ed8541",
   "metadata": {},
   "outputs": [
    {
     "data": {
      "image/png": "[encoded data removed]",
      "text/plain": [
       "<Figure size 432x288 with 2 Axes>"
      ]
     },
     "metadata": {
      "needs_background": "light"
     },
     "output_type": "display_data"
    }
   ],
   "source": [
    "test_preds = best_model.predict(X_test)\n",
    "tn, fp, fn, tp = confusion_matrix(y_test, test_preds).ravel()\n",
    "plot_confusion_matrix(best_model, X_test, y_test, cmap = 'Greens', normalize = 'true');\n"
   ]
  },
  {
   "cell_type": "markdown",
   "id": "5e1a1565",
   "metadata": {},
   "source": [
    "- We wrongly predicted ~2% of the talesfromretail posts and 1.8% of talesfromtechsupport posts. These were the lowest false negative and false positive rates I could produce with the MNB model."
   ]
  },
  {
   "cell_type": "code",
   "execution_count": 54,
   "id": "0b71c611",
   "metadata": {},
   "outputs": [
    {
     "name": "stdout",
     "output_type": "stream",
     "text": [
      "              precision    recall  f1-score   support\n",
      "\n",
      "           0       0.98      0.97      0.98      3136\n",
      "           1       0.97      0.98      0.98      3240\n",
      "\n",
      "    accuracy                           0.98      6376\n",
      "   macro avg       0.98      0.98      0.98      6376\n",
      "weighted avg       0.98      0.98      0.98      6376\n",
      "\n"
     ]
    }
   ],
   "source": [
    "print(classification_report(y_test, test_preds))"
   ]
  },
  {
   "cell_type": "markdown",
   "id": "cd74bec2",
   "metadata": {},
   "source": [
    "- Our accuracy, neg/pos precision, neg/pos recall, and f1 score were all ~.98"
   ]
  },
  {
   "cell_type": "code",
   "execution_count": 91,
   "id": "e6ff8f2c",
   "metadata": {},
   "outputs": [
    {
     "data": {
      "text/plain": [
       "(4930, 1)"
      ]
     },
     "execution_count": 91,
     "metadata": {},
     "output_type": "execute_result"
    }
   ],
   "source": [
    "# set best parameters\n",
    "max_df = gs.best_params_['tvec__max_df']\n",
    "min_df = gs.best_params_['tvec__min_df']\n",
    "max_features = gs.best_params_['tvec__max_features']\n",
    "ngram_range = gs.best_params_['tvec__ngram_range']\n",
    "stop_words = gs.best_params_['tvec__stop_words']\n",
    "\n",
    "# find coefficients for each word\n",
    "tvec = TfidfVectorizer(max_df=max_df, \n",
    "                       min_df=min_df, \n",
    "                       ngram_range=ngram_range, \n",
    "                       stop_words=stop_words, \n",
    "                       max_features=max_features)\n",
    "\n",
    "X_train_tvec = tvec.fit_transform(X_train)\n",
    "mnb = MultinomialNB()\n",
    "mnb.fit(X = X_train_tvec, y = y_train)\n",
    "coefs = mnb.coef_\n",
    "coef_frame = pd.DataFrame(data = coefs.T, index = tvec.get_feature_names())\n",
    "coef_frame.rename(columns = {0:'coef'}, inplace = True)\n",
    "coef_frame.shape"
   ]
  },
  {
   "cell_type": "code",
   "execution_count": 57,
   "id": "ba6148c9",
   "metadata": {},
   "outputs": [
    {
     "data": {
      "image/png": "[encoded data removed]",
      "text/plain": [
       "<Figure size 432x288 with 1 Axes>"
      ]
     },
     "metadata": {
      "needs_background": "light"
     },
     "output_type": "display_data"
    }
   ],
   "source": [
    "# top predictors of TechSupport\n",
    "coef_frame['coef'].sort_values(ascending=False).head(10).abs().plot(kind = 'barh')\n",
    "plt.xlabel('Coefficient \\n(absolute value)')\n",
    "plt.title('Top Words Predicting Tales From Tech Support', fontsize = 12);"
   ]
  },
  {
   "cell_type": "markdown",
   "id": "21f70b49",
   "metadata": {},
   "source": [
    "- NOTE: These coefficients are the feature log probabilities for each word"
   ]
  },
  {
   "cell_type": "code",
   "execution_count": 58,
   "id": "83fc2eba",
   "metadata": {},
   "outputs": [
    {
     "data": {
      "text/plain": [
       "(0.0, 11.5)"
      ]
     },
     "execution_count": 58,
     "metadata": {},
     "output_type": "execute_result"
    },
    {
     "data": {
      "image/png": "[encoded data removed]",
      "text/plain": [
       "<Figure size 432x288 with 1 Axes>"
      ]
     },
     "metadata": {
      "needs_background": "light"
     },
     "output_type": "display_data"
    }
   ],
   "source": [
    "# top precictors of Retail\n",
    "retail_top = coef_frame['coef'].sort_values(ascending=False).tail(10).abs().sort_values(ascending = False).plot(kind = 'barh')\n",
    "plt.xlabel('Coefficient \\n(absolute value)')\n",
    "plt.title('Top Words Predicting Tales From Retail', fontsize = 12);\n",
    "plt.xlim((0, 11.5))"
   ]
  },
  {
   "cell_type": "code",
   "execution_count": 59,
   "id": "8eee75e7",
   "metadata": {},
   "outputs": [
    {
     "data": {
      "image/png": "[encoded data removed]",
      "text/plain": [
       "<Figure size 432x288 with 1 Axes>"
      ]
     },
     "metadata": {
      "needs_background": "light"
     },
     "output_type": "display_data"
    }
   ],
   "source": [
    "plot_roc_curve(best_model, X_test, y_test);\n",
    "plt.title('ROC Curve');"
   ]
  },
  {
   "cell_type": "markdown",
   "id": "75285343",
   "metadata": {},
   "source": [
    "# LogReg Model"
   ]
  },
  {
   "cell_type": "code",
   "execution_count": 28,
   "id": "38e483df",
   "metadata": {},
   "outputs": [],
   "source": [
    "pipe_2 = Pipeline([\n",
    "  ('tvec', TfidfVectorizer()),\n",
    "  ('logreg', LogisticRegression(penalty='elasticnet', \n",
    "                               random_state=42,\n",
    "                               max_iter=5000,\n",
    "                               verbose=1,\n",
    "                               solver='saga'))\n",
    "])\n",
    "\n",
    "pipe_2_params = {\n",
    "    \"tvec__max_features\": [5000],\n",
    "    \"tvec__stop_words\"  : [\"english\"],\n",
    "    \"tvec__ngram_range\" : [(1, 2)],\n",
    "    \"tvec__min_df\"      : [0],\n",
    "    \"tvec__max_df\"      : [.8],\n",
    "    \"logreg__C\"         : [15],\n",
    "    \"logreg__l1_ratio\"  : [0],\n",
    "     \n",
    "}\n",
    "\n",
    "gs = GridSearchCV(pipe_2,\n",
    "                  param_grid=pipe_2_params,\n",
    "                  cv=5,\n",
    "                  verbose = 1,\n",
    "                  n_jobs=5\n",
    "                 )\n",
    "\n",
    "gs.fit(X_train, y_train)\n",
    "\n",
    "print(f'Gridsearch Best Score: {gs.best_score_}')\n",
    "print('--------------------')\n",
    "\n",
    "print(f'Gridsearch Best Params: {gs.best_params_}')\n",
    "print('--------------------')\n",
    "\n",
    "best_model = gs.best_estimator_\n",
    "best_model.fit(X_train, y_train)\n",
    "print(f'Testing Accuracy: {best_model.score(X_test, y_test)}')\n",
    "print(f'Training Accuracy: {best_model.score(X_train, y_train)}')\n"
   ]
  },
  {
   "cell_type": "code",
   "execution_count": 32,
   "id": "f18cee75",
   "metadata": {},
   "outputs": [
    {
     "data": {
      "image/png": "[encoded data removed]",
      "text/plain": [
       "<Figure size 432x288 with 2 Axes>"
      ]
     },
     "metadata": {
      "needs_background": "light"
     },
     "output_type": "display_data"
    }
   ],
   "source": [
    "test_preds = best_model.predict(X_test)\n",
    "tn, fp, fn, tp = confusion_matrix(y_test, test_preds).ravel()\n",
    "plot_confusion_matrix(best_model, X_test, y_test, cmap = 'Greens', normalize = 'true');\n"
   ]
  },
  {
   "cell_type": "code",
   "execution_count": 33,
   "id": "09a4081f",
   "metadata": {
    "scrolled": true
   },
   "outputs": [
    {
     "name": "stdout",
     "output_type": "stream",
     "text": [
      "              precision    recall  f1-score   support\n",
      "\n",
      "           0       0.98      0.98      0.98      3136\n",
      "           1       0.98      0.98      0.98      3240\n",
      "\n",
      "    accuracy                           0.98      6376\n",
      "   macro avg       0.98      0.98      0.98      6376\n",
      "weighted avg       0.98      0.98      0.98      6376\n",
      "\n"
     ]
    }
   ],
   "source": [
    "print(classification_report(y_test, test_preds))"
   ]
  },
  {
   "cell_type": "code",
   "execution_count": 89,
   "id": "159544d0",
   "metadata": {},
   "outputs": [
    {
     "data": {
      "text/plain": [
       "(4930, 1)"
      ]
     },
     "execution_count": 89,
     "metadata": {},
     "output_type": "execute_result"
    }
   ],
   "source": [
    "# set best parameters\n",
    "C = gs.best_params_['logreg__C']\n",
    "l1_ratio = gs.best_params_['logreg__l1_ratio']\n",
    "max_df = gs.best_params_['tvec__max_df']\n",
    "min_df = gs.best_params_['tvec__min_df']\n",
    "max_features = gs.best_params_['tvec__max_features']\n",
    "ngram_range = gs.best_params_['tvec__ngram_range']\n",
    "stop_words = gs.best_params_['tvec__stop_words']\n",
    "\n",
    "# find coefficients for each word\n",
    "tvec = TfidfVectorizer(max_df=max_df, \n",
    "                       min_df=min_df, \n",
    "                       ngram_range=ngram_range, \n",
    "                       stop_words=stop_words, \n",
    "                       max_features=max_features)\n",
    "\n",
    "X_train_tvec = tvec.fit_transform(X_train)\n",
    "logreg = LogisticRegression(C=C, l1_ratio=l1_ratio)\n",
    "logreg.fit(X_train_tvec, y_train)\n",
    "coefs = logreg.coef_\n",
    "coef_frame = pd.DataFrame(data = coefs.T, index = tvec.get_feature_names())\n",
    "coef_frame.rename(columns = {0:'coef'}, inplace = True)\n",
    "coef_frame.shape"
   ]
  },
  {
   "cell_type": "markdown",
   "id": "48292388",
   "metadata": {},
   "source": [
    "- Our final model has 4930 features in it"
   ]
  },
  {
   "cell_type": "code",
   "execution_count": 36,
   "id": "0a377d73",
   "metadata": {
    "scrolled": false
   },
   "outputs": [
    {
     "data": {
      "image/png": "[encoded data removed]",
      "text/plain": [
       "<Figure size 432x288 with 1 Axes>"
      ]
     },
     "metadata": {
      "needs_background": "light"
     },
     "output_type": "display_data"
    }
   ],
   "source": [
    "# top predictors of TechSupport\n",
    "coef_frame['coef'].sort_values(ascending=False).head(10).plot(kind = 'barh')\n",
    "plt.xlabel('Coefficient')\n",
    "plt.title('Top Words Predicting Tales From Tech Support', fontsize = 12);"
   ]
  },
  {
   "cell_type": "code",
   "execution_count": 37,
   "id": "5554908f",
   "metadata": {},
   "outputs": [
    {
     "data": {
      "image/png": "[encoded data removed]",
      "text/plain": [
       "<Figure size 432x288 with 1 Axes>"
      ]
     },
     "metadata": {
      "needs_background": "light"
     },
     "output_type": "display_data"
    }
   ],
   "source": [
    "# top precictors of Retail\n",
    "retail_top = coef_frame['coef'].sort_values(ascending=False).tail(10).abs().sort_values(ascending = False).plot(kind = 'barh')\n",
    "plt.xlabel('Coefficient \\n(absolute value)')\n",
    "plt.title('Top Words Predicting Tales From Retail', fontsize = 12);"
   ]
  },
  {
   "cell_type": "code",
   "execution_count": 90,
   "id": "82f40ccf",
   "metadata": {
    "scrolled": true
   },
   "outputs": [
    {
     "data": {
      "image/png": "[encoded data removed]",
      "text/plain": [
       "<Figure size 432x288 with 1 Axes>"
      ]
     },
     "metadata": {
      "needs_background": "light"
     },
     "output_type": "display_data"
    }
   ],
   "source": [
    "plot_roc_curve(best_model, X_test, y_test);\n",
    "plt.title('ROC Curve');"
   ]
  },
  {
   "cell_type": "markdown",
   "id": "39c21bfc",
   "metadata": {},
   "source": [
    "# False Predictions"
   ]
  },
  {
   "cell_type": "code",
   "execution_count": 87,
   "id": "553725c4",
   "metadata": {},
   "outputs": [
    {
     "data": {
      "text/html": [
       "<div>\n",
       "<style scoped>\n",
       "    .dataframe tbody tr th:only-of-type {\n",
       "        vertical-align: middle;\n",
       "    }\n",
       "\n",
       "    .dataframe tbody tr th {\n",
       "        vertical-align: top;\n",
       "    }\n",
       "\n",
       "    .dataframe thead th {\n",
       "        text-align: right;\n",
       "    }\n",
       "</style>\n",
       "<table border=\"1\" class=\"dataframe\">\n",
       "  <thead>\n",
       "    <tr style=\"text-align: right;\">\n",
       "      <th></th>\n",
       "      <th>Subtext</th>\n",
       "      <th>Correct Subreddit</th>\n",
       "      <th>Predicted Subreddit</th>\n",
       "    </tr>\n",
       "  </thead>\n",
       "  <tbody>\n",
       "    <tr>\n",
       "      <th>0</th>\n",
       "      <td>Forewarning, I don't work in IT. But what I di...</td>\n",
       "      <td>1</td>\n",
       "      <td>0</td>\n",
       "    </tr>\n",
       "    <tr>\n",
       "      <th>1</th>\n",
       "      <td>I work for a WISP in Northern California. One ...</td>\n",
       "      <td>1</td>\n",
       "      <td>0</td>\n",
       "    </tr>\n",
       "    <tr>\n",
       "      <th>2</th>\n",
       "      <td>Hi ladies and gents! I'm back again, this time...</td>\n",
       "      <td>1</td>\n",
       "      <td>0</td>\n",
       "    </tr>\n",
       "    <tr>\n",
       "      <th>3</th>\n",
       "      <td>An older man came in, having been referred to ...</td>\n",
       "      <td>0</td>\n",
       "      <td>1</td>\n",
       "    </tr>\n",
       "    <tr>\n",
       "      <th>4</th>\n",
       "      <td>My job is one part support and one part implem...</td>\n",
       "      <td>1</td>\n",
       "      <td>0</td>\n",
       "    </tr>\n",
       "    <tr>\n",
       "      <th>5</th>\n",
       "      <td>If anyone thinks this is amusing enough to re...</td>\n",
       "      <td>0</td>\n",
       "      <td>1</td>\n",
       "    </tr>\n",
       "    <tr>\n",
       "      <th>6</th>\n",
       "      <td>so this bloke comes in the other day wearing a...</td>\n",
       "      <td>1</td>\n",
       "      <td>0</td>\n",
       "    </tr>\n",
       "    <tr>\n",
       "      <th>7</th>\n",
       "      <td>A while ago I was working with a squad of peop...</td>\n",
       "      <td>1</td>\n",
       "      <td>0</td>\n",
       "    </tr>\n",
       "    <tr>\n",
       "      <th>8</th>\n",
       "      <td>This is an old story of mine for when I used t...</td>\n",
       "      <td>0</td>\n",
       "      <td>1</td>\n",
       "    </tr>\n",
       "    <tr>\n",
       "      <th>9</th>\n",
       "      <td>Heard from one who knew:\\n\\nA manager, on thei...</td>\n",
       "      <td>0</td>\n",
       "      <td>1</td>\n",
       "    </tr>\n",
       "  </tbody>\n",
       "</table>\n",
       "</div>"
      ],
      "text/plain": [
       "                                             Subtext  Correct Subreddit  \\\n",
       "0  Forewarning, I don't work in IT. But what I di...                  1   \n",
       "1  I work for a WISP in Northern California. One ...                  1   \n",
       "2  Hi ladies and gents! I'm back again, this time...                  1   \n",
       "3  An older man came in, having been referred to ...                  0   \n",
       "4  My job is one part support and one part implem...                  1   \n",
       "5   If anyone thinks this is amusing enough to re...                  0   \n",
       "6  so this bloke comes in the other day wearing a...                  1   \n",
       "7  A while ago I was working with a squad of peop...                  1   \n",
       "8  This is an old story of mine for when I used t...                  0   \n",
       "9  Heard from one who knew:\\n\\nA manager, on thei...                  0   \n",
       "\n",
       "   Predicted Subreddit  \n",
       "0                    0  \n",
       "1                    0  \n",
       "2                    0  \n",
       "3                    1  \n",
       "4                    0  \n",
       "5                    1  \n",
       "6                    0  \n",
       "7                    0  \n",
       "8                    1  \n",
       "9                    1  "
      ]
     },
     "execution_count": 87,
     "metadata": {},
     "output_type": "execute_result"
    }
   ],
   "source": [
    "mask = [test_preds != y_test]\n",
    "wrong_preds = np.array(X_test)[mask]\n",
    "wrong_subs = np.array(y_test)[mask]\n",
    "pred_subs = test_preds[mask]\n",
    "wrong_df = pd.DataFrame(data = wrong_preds, columns = ['Subtext'])\n",
    "wrong_df['Correct Subreddit'] = wrong_subs\n",
    "wrong_df['Predicted Subreddit'] = pred_subs\n",
    "\n",
    "wrong_df.head(10)"
   ]
  },
  {
   "cell_type": "code",
   "execution_count": 81,
   "id": "51bf4b3d",
   "metadata": {},
   "outputs": [
    {
     "data": {
      "text/plain": [
       "'Forewarning, I don\\'t work in IT. But what I did is essentially the job. \\n\\nMy gym is like a second home, but I am a complete nerd at home (and proud of it). The owners/desk lady\\'s were complaining about their computer being slow for a while, and I knew they had an IT guy that came in every month (for security/accounts protection and Mait).\\n\\n&amp;#x200B;\\n\\nOne day, The receptionist was complaining for a good 30 minutes about it. And I finally snapped. I walked up, said I was taking a look and they could trust me (We were all on good terms, second family right?)  \\n\\n\\nGOD KNOWS WHAT I FOUND. \\n\\n&amp;#x200B;\\n\\nAs soon as I got 3 feet from the comp area, I could smell it. The dark, dusty, burning of electronics. I was horrified. Seeing a space heater ON the tower, I asked how often she had it on.   \\n\\n\\n\"I have it on all the time, the Gym is air conditioned and I get so cold...\"  \\n\\n\\nKeep in mind, this is the owners daughter so I couldn\\'t give a slap down, she also didn\\'t know any better. \\n\\n&amp;#x200B;\\n\\nOnce I opened the case, I found 4 inches. I\\'m not kidding here, 4 INCHES of dust from bottom up. SOLID, packed in. The case side that I pulled off was BLACK around the CPU area. I have no idea how this CPU didn\\'t melt down. It was burning the case itself... how didn\\'t it burn the MB along with it!\\n\\n&amp;#x200B;\\n\\nI cleaned out the case, and told her to give me till the next day to get some stuff ready. I wrote down spec\\'s of the units exc, went home and rounded up spare parts. A new/used MB, Ram, CPU exc. I had a small solid state I wasn\\'t using so I snagged that too. \\n\\n&amp;#x200B;\\n\\nNext day, I rebuilt the comp for them, added a fan for proper flow and cloned the OS over. Gave them a proper talk down on general Mait/cleaning. They ended up firing their IT guy, unofficially hiring me. So I help them and do mait/setups exc. I get a free gym pass.\\n\\n&amp;#x200B;\\n\\nWin win! \\n\\n(Front desk lady is now keeping the heater behind her surrounded by files. Thank god)\\n\\nSorry for format, first post here/first post actually telling a story. '"
      ]
     },
     "execution_count": 81,
     "metadata": {},
     "output_type": "execute_result"
    }
   ],
   "source": [
    "wrong_df.iloc[0]['Subtext']"
   ]
  },
  {
   "cell_type": "code",
   "execution_count": 80,
   "id": "ca496812",
   "metadata": {},
   "outputs": [
    {
     "data": {
      "text/plain": [
       "'An older man came in, having been referred to Dr. A. Dr. A’s schedule was booked, but Dr. B, who was the same *type* of doctor, had availability. So when I started checking him in, I mentioned he was seeing Dr B.\\n\\n“What? No! I was referred to Dr A!”\\n\\n“Well, you’re seeing Dr B. She’s the same type of doctor, you’ll get the same treatment.”\\n\\n“You can’t make me see one doctor when I was referred to another! That’s malpractice! It’s like needing to get your left foot cut off but they cut off your right foot!”\\n\\nYes, he said that. I then had to grab a pamphlet for Dr B and show the patient that she was qualified.\\n\\n“‘Dr B is a qualified UNSPECIFIED-ologist,’” I read aloud. “She began her education at SCHOOL in the West Indies...”\\n\\n“West Indies?” The man muttered. “So she couldn’t get into a school in the States, huh?”\\n\\n“‘...before attending SCHOOL in New York,’” I continued.\\n\\nHe finally acquiesced after reading the pamphlet for himself and deeming Dr B worthy of his time.'"
      ]
     },
     "execution_count": 80,
     "metadata": {},
     "output_type": "execute_result"
    }
   ],
   "source": [
    "wrong_df.iloc[3]['Subtext']"
   ]
  },
  {
   "cell_type": "markdown",
   "id": "0d90b506",
   "metadata": {},
   "source": [
    "- Both of these are examples of misclassified posts in our model. When we examine them, it is pretty clear why. \n",
    "- The top one was misclassified as Retail, and it even says in the first sentence of the post \"I don't work in IT.\" The story does have to do with tech support, but given that this is someone not familiar with the posting format (\"Sorry for format, first post here\"), it makes sense why it was misclassified.\n",
    "- The bottom one does not even have to do with retail, it has to do with a receptionist at an Doctors office. It really doesn't belong in either subreddit. "
   ]
  }
 ],
 "metadata": {
  "kernelspec": {
   "display_name": "env",
   "language": "python",
   "name": "env"
  },
  "language_info": {
   "codemirror_mode": {
    "name": "ipython",
    "version": 3
   },
   "file_extension": ".py",
   "mimetype": "text/x-python",
   "name": "python",
   "nbconvert_exporter": "python",
   "pygments_lexer": "ipython3",
   "version": "3.8.8"
  }
 },
 "nbformat": 4,
 "nbformat_minor": 5
}
